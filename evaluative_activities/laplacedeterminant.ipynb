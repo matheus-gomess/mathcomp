{
 "cells": [
  {
   "cell_type": "code",
   "execution_count": 10,
   "id": "7581250a",
   "metadata": {},
   "outputs": [
    {
     "data": {
      "text/latex": [
       "$\\displaystyle 0$"
      ],
      "text/plain": [
       "0"
      ]
     },
     "execution_count": 10,
     "metadata": {},
     "output_type": "execute_result"
    }
   ],
   "source": [
    "from sympy import Matrix\n",
    "\n",
    "def laplace_determinant(matrix, row_or_col=\"row\", index=0):\n",
    "    \"\"\"\n",
    "    Calcula a determinante de uma matriz usando o Teorema de Laplace.\n",
    "\n",
    "    Parâmetros:\n",
    "    - matrix: sympy.Matrix (matriz qadrada)\n",
    "    - row_or_col: \"row\" o \"col\" para indicar se a expansão será por linha ou coluna\n",
    "    - index: índice da linha ou coluna a ser usada (começando em 0)\n",
    "    \"\"\"\n",
    "    n = matrix.shape[0]\n",
    "    assert matrix.shape[0] == matrix.shape[1], \"A matriz deve ser quadrada\"\n",
    "\n",
    "    det = 0\n",
    "    for j in range(n):\n",
    "        if row_or_col == \"row\":\n",
    "            a_ij = matrix[index, j]\n",
    "            minor = matrix.minor_submatrix(index, j)\n",
    "            sign = (-1) ** (index + j)\n",
    "        elif row_or_col == \"col\":\n",
    "            a_ij = matrix[j, index]\n",
    "            minor = matrix.minor_submatrix(j, index)\n",
    "            sign = (-1) ** (j + index)\n",
    "        else:\n",
    "            raise ValueError(\"row_or_col deve ser 'row' ou 'col'\")\n",
    "        \n",
    "        det += sign * a_ij * minor.det()\n",
    "\n",
    "    return det\n",
    "\n",
    "A = Matrix([[1, 1], [2, 2]])\n",
    "laplace_determinant(A)\n"
   ]
  }
 ],
 "metadata": {
  "kernelspec": {
   "display_name": "Python 3",
   "language": "python",
   "name": "python3"
  },
  "language_info": {
   "codemirror_mode": {
    "name": "ipython",
    "version": 3
   },
   "file_extension": ".py",
   "mimetype": "text/x-python",
   "name": "python",
   "nbconvert_exporter": "python",
   "pygments_lexer": "ipython3",
   "version": "3.11.9"
  }
 },
 "nbformat": 4,
 "nbformat_minor": 5
}
