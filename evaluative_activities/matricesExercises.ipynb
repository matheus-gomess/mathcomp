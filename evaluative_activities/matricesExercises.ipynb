{
 "cells": [
  {
   "cell_type": "code",
   "execution_count": null,
   "id": "c52e4844",
   "metadata": {},
   "outputs": [
    {
     "ename": "",
     "evalue": "",
     "output_type": "error",
     "traceback": [
      "\u001b[1;31mRunning cells with 'Python 3.11.2' requires the ipykernel package.\n",
      "\u001b[1;31mRun the following command to install 'ipykernel' into the Python environment. \n",
      "\u001b[1;31mCommand: '/usr/bin/python3 -m pip install ipykernel -U --user --force-reinstall'"
     ]
    }
   ],
   "source": [
    "import numpy as np \n",
    "import matplotlib.pyplot as plt \n",
    "\n",
    "def matricesExample():\n",
    "    \"\"\"\n",
    "    Sistema:\n",
    "    Reta 1: 2x + y = 5 ∴ y = -2x + 5\n",
    "    Reta 2: x - y = 1 ∴ y = x - 1\n",
    "    \"\"\"\n",
    "\n",
    "    #Matriz dos coeficientes A e vetor B\n",
    "    A = np.array([[2, 1], [1, -1]]);\n",
    "    B = np.array([5, 1]);\n",
    "\n",
    "    #Solução do sistema (interseção das retas)\n",
    "    X = np.linalg.solve(A, B);\n",
    "    x_intersec, y_intersec = X;\n",
    "    print(f\"Interseção: x = {x_intersec:.2f}, y = {y_intersec:.2f}\");\n",
    "\n",
    "    #2ª PARTE COLOCANDO O GRÁFICO DA INTERSEÇÃO\n",
    "    x_vals = np.linspace(-1, 4, 400);\n",
    "\n",
    "    y1 = -2 * x_vals + 5 #Reta 1\n",
    "    y2 = x_vals - 1 #Reta 2\n",
    "\n",
    "    #Plotando as retas\n",
    "    plt.figure(figsize=(6,6));\n",
    "    plt.plot(x_vals, y1, label='2x + y = 5');\n",
    "    plt.plot(x_vals, y2, label='x - y = 1');\n",
    "\n",
    "    #Plotando o ponto de interseção\n",
    "    plt.scatter(x_intersec, y_intersec, color='red', zorder=5, \n",
    "                label=f'Interseção ({x_intersec:.2f}, {y_intersec:.2f})');\n",
    "    \n",
    "    #Configurações do gráfico:\n",
    "    plt.axhline(0, color='black', linewidth=0.5);\n",
    "    plt.axvline(0, color='black', linewidth=0.5);\n",
    "    plt.xlabel('x');\n",
    "    plt.ylabel('y');\n",
    "    plt.grid(True);\n",
    "    plt.legend();\n",
    "    plt.title('Interseção de duas retas via matriz');\n",
    "\n",
    "    plt.show();\n",
    "\n",
    "matricesExample();"
   ]
  },
  {
   "cell_type": "code",
   "execution_count": null,
   "id": "d81d677e",
   "metadata": {},
   "outputs": [
    {
     "ename": "",
     "evalue": "",
     "output_type": "error",
     "traceback": [
      "\u001b[1;31mRunning cells with 'Python 3.11.2' requires the ipykernel package.\n",
      "\u001b[1;31mRun the following command to install 'ipykernel' into the Python environment. \n",
      "\u001b[1;31mCommand: '/usr/bin/python3 -m pip install ipykernel -U --user --force-reinstall'"
     ]
    }
   ],
   "source": [
    "def matrixExercise():\n",
    "    \"\"\"\n",
    "    Dia (16/04/25)\n",
    "    Modifique esse programa para resolver:\n",
    "    (3x + 2y = 12) e (x - y = 1)\n",
    "    \"\"\"\n",
    "    \n",
    "    A = np.array([[3, 2], [1, -1]]);\n",
    "    B = np.array([12, 1]);\n",
    "\n",
    "    X = np.linalg.solve(A, B);\n",
    "    x_intersec, y_intersec = X;\n",
    "    print(f\"Interseção: x = {x_intersec:.2f}, y = {y_intersec:.2f}\");\n",
    "\n",
    "    #Construindo o gráfico:\n",
    "    x_vals = np.linspace(-1, 4, 400);\n",
    "\n",
    "    y1 = (-3 * x_vals + 12) / 2\n",
    "    y2 = x_vals - 1\n",
    "\n",
    "    #Plotando as retas\n",
    "    plt.figure(figsize=(6,6));\n",
    "    plt.plot(x_vals, y1, label='3x + 2y = 12');\n",
    "    plt.plot(x_vals, y2, label='x - y = 1');\n",
    "\n",
    "    #Plotando o ponto de interseção\n",
    "    plt.scatter(x_intersec, y_intersec, color='red', zorder=5, \n",
    "                label=f'Interseção ({x_intersec:.2f}, {y_intersec:.2f})');\n",
    "    \n",
    "    #Configurações do gráfico:\n",
    "    plt.axhline(0, color='black', linewidth=0.5);\n",
    "    plt.axvline(0, color='black', linewidth=0.5);\n",
    "    plt.xlabel('x');\n",
    "    plt.ylabel('y');\n",
    "    plt.grid(True);\n",
    "    plt.legend();\n",
    "    plt.title('Interseção de duas retas via matriz');\n",
    "\n",
    "    plt.show();\n",
    "    \n",
    "matrixExercise();"
   ]
  }
 ],
 "metadata": {
  "kernelspec": {
   "display_name": "Python 3",
   "language": "python",
   "name": "python3"
  },
  "language_info": {
   "codemirror_mode": {
    "name": "ipython",
    "version": 3
   },
   "file_extension": ".py",
   "mimetype": "text/x-python",
   "name": "python",
   "nbconvert_exporter": "python",
   "pygments_lexer": "ipython3",
   "version": "3.11.2"
  }
 },
 "nbformat": 4,
 "nbformat_minor": 5
}
