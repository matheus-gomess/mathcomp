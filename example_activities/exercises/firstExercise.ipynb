{
 "cells": [
  {
   "cell_type": "code",
   "execution_count": 30,
   "metadata": {},
   "outputs": [
    {
     "name": "stdout",
     "output_type": "stream",
     "text": [
      "Programa que calcula:\n",
      "   • O produto do primeiro pelo segundo\n",
      "   • A soma do triplo do primeiro com o dobro do segundo\n",
      "   • O primeiro elevado ao cubo\n",
      "Os números escolhidos foram: 2 e 6 \n",
      "Os resultados dos cálculos são:\n",
      "   • O produto do primeiro pelo segundo:  12 \n",
      "   • A soma do triplo do primeiro com o dobro do Segundo:  18 \n",
      "   • O primeiro elevado ao cubo:  8\n"
     ]
    }
   ],
   "source": [
    "'''\n",
    "Dia (19/03/25)\n",
    "Faça um programa que peça dois números, calcule e mostre:\n",
    "    • O produto do primeiro pelo Segundo\n",
    "    • A soma do triplo do primeiro com o dobro do Segundo\n",
    "    • O primeiro Elevado ao cubo\n",
    "'''\n",
    "\n",
    "print(\"Programa que calcula:\"\n",
    "\"\\n   • O produto do primeiro pelo segundo\"\n",
    "\"\\n   • A soma do triplo do primeiro com o dobro do segundo\"\n",
    "\"\\n   • O primeiro elevado ao cubo\")\n",
    "\n",
    "while True:\n",
    "    try:\n",
    "        num1 = int(input(\"Digite o primeiro número: \"))\n",
    "        num2 = int(input(\"Digite o segundo número: \"))\n",
    "        break\n",
    "    except ValueError:\n",
    "        print(\"O que você digitou não é um número inteiro. Por favor, tente novamente.\")\n",
    "\n",
    "\n",
    "calculations = [\n",
    "    (num1 * num2),\n",
    "    (3 * num1 + 2 * num2),\n",
    "    (num1 ** 3)\n",
    "]\n",
    "\n",
    "print(\"Os números escolhidos foram:\",num1,\"e\",num2, \"\\nOs resultados dos cálculos são:\\n\"\n",
    "\"   • O produto do primeiro pelo segundo: \", calculations[0],\n",
    "\"\\n   • A soma do triplo do primeiro com o dobro do Segundo: \", calculations[1], \n",
    "\"\\n   • O primeiro elevado ao cubo: \", calculations[2])\n"
   ]
  }
 ],
 "metadata": {
  "kernelspec": {
   "display_name": "Python 3",
   "language": "python",
   "name": "python3"
  },
  "language_info": {
   "codemirror_mode": {
    "name": "ipython",
    "version": 3
   },
   "file_extension": ".py",
   "mimetype": "text/x-python",
   "name": "python",
   "nbconvert_exporter": "python",
   "pygments_lexer": "ipython3",
   "version": "3.11.9"
  }
 },
 "nbformat": 4,
 "nbformat_minor": 2
}
