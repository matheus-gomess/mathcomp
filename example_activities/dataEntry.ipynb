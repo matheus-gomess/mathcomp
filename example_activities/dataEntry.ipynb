{
 "cells": [
  {
   "cell_type": "code",
   "execution_count": null,
   "metadata": {},
   "outputs": [
    {
     "name": "stdout",
     "output_type": "stream",
     "text": [
      "ola 2\n"
     ]
    }
   ],
   "source": [
    "# Entrada de dados (interativa)\n",
    "\n",
    "# Ler do teclado -> input()\n",
    "idade = input(\"Digite sua idade: \")\n",
    "# Conversao de tipos Conversão de tipos: int(), float(), str()\n",
    "idade2 = int(input(\"Digite sua idade: \"))\n",
    "\n",
    "print(idade, idade2)\n",
    "\n",
    "#também tem:\n",
    "'''\n",
    "Entrada de dados (não interativa)\n",
    "    Argumento de linha de comando\n",
    "        python meu_script.py valor1 valor2\n",
    "\n",
    "        import sys\n",
    "        print(sys.argv[1]) # valor1\n",
    "        print(sys.argv[2]) # valor2\n",
    "'''\n",
    "#ou\n",
    "'''\n",
    "Entrada de dados (via arquivo)\n",
    "Você pode ler dados de um arquivo:\n",
    "    with open(\"dados.txt\", \"r\") as f:\n",
    "    conteudo = f.read()\n",
    "'''"
   ]
  },
  {
   "cell_type": "code",
   "execution_count": 1,
   "metadata": {},
   "outputs": [
    {
     "data": {
      "application/vnd.jupyter.widget-view+json": {
       "model_id": "746abb401ca94f80b9308fd23d05e5bc",
       "version_major": 2,
       "version_minor": 0
      },
      "text/plain": [
       "interactive(children=(Text(value='Fulano', description='nome'), Output()), _dom_classes=('widget-interact',))"
      ]
     },
     "metadata": {},
     "output_type": "display_data"
    },
    {
     "data": {
      "text/plain": [
       "<function __main__.saudacao(nome)>"
      ]
     },
     "execution_count": 1,
     "metadata": {},
     "output_type": "execute_result"
    }
   ],
   "source": [
    "#Alternativas com interface ao input() em JupyterLab\n",
    "\n",
    "from ipywidgets import interact\n",
    "def saudacao(nome):\n",
    "    return f\"Olá, {nome}!\"\n",
    "interact(saudacao, nome=\"Fulano\")"
   ]
  }
 ],
 "metadata": {
  "kernelspec": {
   "display_name": "Python 3",
   "language": "python",
   "name": "python3"
  },
  "language_info": {
   "codemirror_mode": {
    "name": "ipython",
    "version": 3
   },
   "file_extension": ".py",
   "mimetype": "text/x-python",
   "name": "python",
   "nbconvert_exporter": "python",
   "pygments_lexer": "ipython3",
   "version": "3.11.9"
  }
 },
 "nbformat": 4,
 "nbformat_minor": 2
}
